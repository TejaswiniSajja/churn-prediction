{
 "cells": [
  {
   "cell_type": "code",
   "execution_count": 1,
   "metadata": {},
   "outputs": [],
   "source": [
    "import pandas as pd\n",
    "import numpy as np\n",
    "import seaborn as sns\n",
    "import matplotlib.pyplot as plt\n",
    "import seaborn as sns\n",
    "from sklearn import metrics\n",
    "from sklearn.model_selection import train_test_split\n",
    "from sklearn.svm import SVC\n",
    "from sklearn.model_selection import RandomizedSearchCV\n",
    "from sklearn.neighbors import KNeighborsClassifier\n",
    "from sklearn.linear_model import LogisticRegression\n",
    "from sklearn.ensemble import RandomForestClassifier\n",
    "from sklearn.model_selection import cross_val_score\n",
    "import pickle"
   ]
  },
  {
   "cell_type": "code",
   "execution_count": 87,
   "metadata": {},
   "outputs": [
    {
     "data": {
      "text/html": [
       "<div>\n",
       "<style scoped>\n",
       "    .dataframe tbody tr th:only-of-type {\n",
       "        vertical-align: middle;\n",
       "    }\n",
       "\n",
       "    .dataframe tbody tr th {\n",
       "        vertical-align: top;\n",
       "    }\n",
       "\n",
       "    .dataframe thead th {\n",
       "        text-align: right;\n",
       "    }\n",
       "</style>\n",
       "<table border=\"1\" class=\"dataframe\">\n",
       "  <thead>\n",
       "    <tr style=\"text-align: right;\">\n",
       "      <th></th>\n",
       "      <th>CustomerID</th>\n",
       "      <th>Churn</th>\n",
       "      <th>HourSpendOnApp</th>\n",
       "      <th>NumberOfDeviceRegistered</th>\n",
       "      <th>SatisfactionScore</th>\n",
       "      <th>Complain</th>\n",
       "      <th>OrderAmountHikeFromlastYear</th>\n",
       "      <th>OrderCount</th>\n",
       "      <th>DaySinceLastOrder</th>\n",
       "      <th>CashbackAmount</th>\n",
       "    </tr>\n",
       "  </thead>\n",
       "  <tbody>\n",
       "    <tr>\n",
       "      <th>0</th>\n",
       "      <td>50001</td>\n",
       "      <td>1</td>\n",
       "      <td>3.0</td>\n",
       "      <td>3</td>\n",
       "      <td>2</td>\n",
       "      <td>1</td>\n",
       "      <td>11.0</td>\n",
       "      <td>1.0</td>\n",
       "      <td>5.0</td>\n",
       "      <td>160</td>\n",
       "    </tr>\n",
       "    <tr>\n",
       "      <th>1</th>\n",
       "      <td>50002</td>\n",
       "      <td>1</td>\n",
       "      <td>3.0</td>\n",
       "      <td>4</td>\n",
       "      <td>3</td>\n",
       "      <td>1</td>\n",
       "      <td>15.0</td>\n",
       "      <td>1.0</td>\n",
       "      <td>0.0</td>\n",
       "      <td>121</td>\n",
       "    </tr>\n",
       "    <tr>\n",
       "      <th>2</th>\n",
       "      <td>50003</td>\n",
       "      <td>1</td>\n",
       "      <td>2.0</td>\n",
       "      <td>4</td>\n",
       "      <td>3</td>\n",
       "      <td>1</td>\n",
       "      <td>14.0</td>\n",
       "      <td>1.0</td>\n",
       "      <td>3.0</td>\n",
       "      <td>120</td>\n",
       "    </tr>\n",
       "    <tr>\n",
       "      <th>3</th>\n",
       "      <td>50004</td>\n",
       "      <td>1</td>\n",
       "      <td>2.0</td>\n",
       "      <td>4</td>\n",
       "      <td>5</td>\n",
       "      <td>0</td>\n",
       "      <td>23.0</td>\n",
       "      <td>1.0</td>\n",
       "      <td>3.0</td>\n",
       "      <td>134</td>\n",
       "    </tr>\n",
       "    <tr>\n",
       "      <th>4</th>\n",
       "      <td>50005</td>\n",
       "      <td>1</td>\n",
       "      <td>NaN</td>\n",
       "      <td>3</td>\n",
       "      <td>5</td>\n",
       "      <td>0</td>\n",
       "      <td>11.0</td>\n",
       "      <td>1.0</td>\n",
       "      <td>3.0</td>\n",
       "      <td>130</td>\n",
       "    </tr>\n",
       "    <tr>\n",
       "      <th>5</th>\n",
       "      <td>50006</td>\n",
       "      <td>1</td>\n",
       "      <td>3.0</td>\n",
       "      <td>5</td>\n",
       "      <td>5</td>\n",
       "      <td>1</td>\n",
       "      <td>22.0</td>\n",
       "      <td>6.0</td>\n",
       "      <td>7.0</td>\n",
       "      <td>139</td>\n",
       "    </tr>\n",
       "    <tr>\n",
       "      <th>6</th>\n",
       "      <td>50007</td>\n",
       "      <td>1</td>\n",
       "      <td>2.0</td>\n",
       "      <td>3</td>\n",
       "      <td>2</td>\n",
       "      <td>0</td>\n",
       "      <td>14.0</td>\n",
       "      <td>1.0</td>\n",
       "      <td>0.0</td>\n",
       "      <td>121</td>\n",
       "    </tr>\n",
       "    <tr>\n",
       "      <th>7</th>\n",
       "      <td>50008</td>\n",
       "      <td>1</td>\n",
       "      <td>3.0</td>\n",
       "      <td>3</td>\n",
       "      <td>2</td>\n",
       "      <td>1</td>\n",
       "      <td>16.0</td>\n",
       "      <td>2.0</td>\n",
       "      <td>0.0</td>\n",
       "      <td>123</td>\n",
       "    </tr>\n",
       "    <tr>\n",
       "      <th>8</th>\n",
       "      <td>50009</td>\n",
       "      <td>1</td>\n",
       "      <td>NaN</td>\n",
       "      <td>4</td>\n",
       "      <td>3</td>\n",
       "      <td>1</td>\n",
       "      <td>14.0</td>\n",
       "      <td>1.0</td>\n",
       "      <td>2.0</td>\n",
       "      <td>127</td>\n",
       "    </tr>\n",
       "    <tr>\n",
       "      <th>9</th>\n",
       "      <td>50010</td>\n",
       "      <td>1</td>\n",
       "      <td>2.0</td>\n",
       "      <td>5</td>\n",
       "      <td>3</td>\n",
       "      <td>0</td>\n",
       "      <td>12.0</td>\n",
       "      <td>1.0</td>\n",
       "      <td>1.0</td>\n",
       "      <td>123</td>\n",
       "    </tr>\n",
       "  </tbody>\n",
       "</table>\n",
       "</div>"
      ],
      "text/plain": [
       "   CustomerID  Churn  HourSpendOnApp  NumberOfDeviceRegistered  \\\n",
       "0       50001      1             3.0                         3   \n",
       "1       50002      1             3.0                         4   \n",
       "2       50003      1             2.0                         4   \n",
       "3       50004      1             2.0                         4   \n",
       "4       50005      1             NaN                         3   \n",
       "5       50006      1             3.0                         5   \n",
       "6       50007      1             2.0                         3   \n",
       "7       50008      1             3.0                         3   \n",
       "8       50009      1             NaN                         4   \n",
       "9       50010      1             2.0                         5   \n",
       "\n",
       "   SatisfactionScore  Complain  OrderAmountHikeFromlastYear  OrderCount  \\\n",
       "0                  2         1                         11.0         1.0   \n",
       "1                  3         1                         15.0         1.0   \n",
       "2                  3         1                         14.0         1.0   \n",
       "3                  5         0                         23.0         1.0   \n",
       "4                  5         0                         11.0         1.0   \n",
       "5                  5         1                         22.0         6.0   \n",
       "6                  2         0                         14.0         1.0   \n",
       "7                  2         1                         16.0         2.0   \n",
       "8                  3         1                         14.0         1.0   \n",
       "9                  3         0                         12.0         1.0   \n",
       "\n",
       "   DaySinceLastOrder  CashbackAmount  \n",
       "0                5.0             160  \n",
       "1                0.0             121  \n",
       "2                3.0             120  \n",
       "3                3.0             134  \n",
       "4                3.0             130  \n",
       "5                7.0             139  \n",
       "6                0.0             121  \n",
       "7                0.0             123  \n",
       "8                2.0             127  \n",
       "9                1.0             123  "
      ]
     },
     "execution_count": 87,
     "metadata": {},
     "output_type": "execute_result"
    }
   ],
   "source": [
    "df = pd.read_csv('Churn_final_data.csv')\n",
    "df.head(10)"
   ]
  },
  {
   "cell_type": "code",
   "execution_count": 52,
   "metadata": {},
   "outputs": [
    {
     "data": {
      "text/plain": [
       "CustomerID                       int64\n",
       "Churn                            int64\n",
       "HourSpendOnApp                 float64\n",
       "NumberOfDeviceRegistered         int64\n",
       "SatisfactionScore                int64\n",
       "Complain                         int64\n",
       "OrderAmountHikeFromlastYear    float64\n",
       "OrderCount                     float64\n",
       "DaySinceLastOrder              float64\n",
       "CashbackAmount                   int64\n",
       "dtype: object"
      ]
     },
     "execution_count": 52,
     "metadata": {},
     "output_type": "execute_result"
    }
   ],
   "source": [
    "df.dtypes"
   ]
  },
  {
   "cell_type": "code",
   "execution_count": 53,
   "metadata": {},
   "outputs": [
    {
     "name": "stdout",
     "output_type": "stream",
     "text": [
      "255\n",
      "0\n",
      "0\n",
      "265\n",
      "258\n",
      "307\n",
      "0\n"
     ]
    }
   ],
   "source": [
    "print(df[\"HourSpendOnApp\"].isnull().sum())\n",
    "print(df[\"SatisfactionScore\"].isnull().sum())\n",
    "print(df[\"Complain\"].isnull().sum())\n",
    "print(df[\"OrderAmountHikeFromlastYear\"].isnull().sum())\n",
    "print(df[\"OrderCount\"].isnull().sum())\n",
    "print(df[\"DaySinceLastOrder\"].isnull().sum())\n",
    "print(df[\"CashbackAmount\"].isnull().sum())"
   ]
  },
  {
   "cell_type": "code",
   "execution_count": 54,
   "metadata": {},
   "outputs": [],
   "source": [
    "df[\"HourSpendOnApp\"] = df[\"HourSpendOnApp\"].replace(np.NaN,df[\"HourSpendOnApp\"].mean())\n",
    "df[\"OrderAmountHikeFromlastYear\"] = df[\"OrderAmountHikeFromlastYear\"].replace(np.NaN,df[\"OrderAmountHikeFromlastYear\"].mean())\n",
    "df[\"OrderCount\"] = df[\"OrderCount\"].replace(np.NaN,df[\"OrderCount\"].mean())\n",
    "df[\"DaySinceLastOrder\"] = df[\"DaySinceLastOrder\"].replace(np.NaN,df[\"DaySinceLastOrder\"].mean())"
   ]
  },
  {
   "cell_type": "code",
   "execution_count": 55,
   "metadata": {},
   "outputs": [
    {
     "name": "stdout",
     "output_type": "stream",
     "text": [
      "0\n",
      "0\n",
      "0\n",
      "0\n",
      "0\n",
      "0\n",
      "0\n"
     ]
    }
   ],
   "source": [
    "print(df[\"HourSpendOnApp\"].isnull().sum())\n",
    "print(df[\"SatisfactionScore\"].isnull().sum())\n",
    "print(df[\"Complain\"].isnull().sum())\n",
    "print(df[\"OrderAmountHikeFromlastYear\"].isnull().sum())\n",
    "print(df[\"OrderCount\"].isnull().sum())\n",
    "print(df[\"DaySinceLastOrder\"].isnull().sum())\n",
    "print(df[\"CashbackAmount\"].isnull().sum())"
   ]
  },
  {
   "cell_type": "code",
   "execution_count": 56,
   "metadata": {},
   "outputs": [
    {
     "data": {
      "text/html": [
       "<div>\n",
       "<style scoped>\n",
       "    .dataframe tbody tr th:only-of-type {\n",
       "        vertical-align: middle;\n",
       "    }\n",
       "\n",
       "    .dataframe tbody tr th {\n",
       "        vertical-align: top;\n",
       "    }\n",
       "\n",
       "    .dataframe thead th {\n",
       "        text-align: right;\n",
       "    }\n",
       "</style>\n",
       "<table border=\"1\" class=\"dataframe\">\n",
       "  <thead>\n",
       "    <tr style=\"text-align: right;\">\n",
       "      <th></th>\n",
       "      <th>CustomerID</th>\n",
       "      <th>Churn</th>\n",
       "      <th>HourSpendOnApp</th>\n",
       "      <th>NumberOfDeviceRegistered</th>\n",
       "      <th>SatisfactionScore</th>\n",
       "      <th>Complain</th>\n",
       "      <th>OrderAmountHikeFromlastYear</th>\n",
       "      <th>OrderCount</th>\n",
       "      <th>DaySinceLastOrder</th>\n",
       "      <th>CashbackAmount</th>\n",
       "    </tr>\n",
       "  </thead>\n",
       "  <tbody>\n",
       "    <tr>\n",
       "      <th>0</th>\n",
       "      <td>50001</td>\n",
       "      <td>1</td>\n",
       "      <td>3.000000</td>\n",
       "      <td>3</td>\n",
       "      <td>2</td>\n",
       "      <td>1</td>\n",
       "      <td>11.0</td>\n",
       "      <td>1.0</td>\n",
       "      <td>5.0</td>\n",
       "      <td>160</td>\n",
       "    </tr>\n",
       "    <tr>\n",
       "      <th>1</th>\n",
       "      <td>50002</td>\n",
       "      <td>1</td>\n",
       "      <td>3.000000</td>\n",
       "      <td>4</td>\n",
       "      <td>3</td>\n",
       "      <td>1</td>\n",
       "      <td>15.0</td>\n",
       "      <td>1.0</td>\n",
       "      <td>0.0</td>\n",
       "      <td>121</td>\n",
       "    </tr>\n",
       "    <tr>\n",
       "      <th>2</th>\n",
       "      <td>50003</td>\n",
       "      <td>1</td>\n",
       "      <td>2.000000</td>\n",
       "      <td>4</td>\n",
       "      <td>3</td>\n",
       "      <td>1</td>\n",
       "      <td>14.0</td>\n",
       "      <td>1.0</td>\n",
       "      <td>3.0</td>\n",
       "      <td>120</td>\n",
       "    </tr>\n",
       "    <tr>\n",
       "      <th>3</th>\n",
       "      <td>50004</td>\n",
       "      <td>1</td>\n",
       "      <td>2.000000</td>\n",
       "      <td>4</td>\n",
       "      <td>5</td>\n",
       "      <td>0</td>\n",
       "      <td>23.0</td>\n",
       "      <td>1.0</td>\n",
       "      <td>3.0</td>\n",
       "      <td>134</td>\n",
       "    </tr>\n",
       "    <tr>\n",
       "      <th>4</th>\n",
       "      <td>50005</td>\n",
       "      <td>1</td>\n",
       "      <td>2.931535</td>\n",
       "      <td>3</td>\n",
       "      <td>5</td>\n",
       "      <td>0</td>\n",
       "      <td>11.0</td>\n",
       "      <td>1.0</td>\n",
       "      <td>3.0</td>\n",
       "      <td>130</td>\n",
       "    </tr>\n",
       "  </tbody>\n",
       "</table>\n",
       "</div>"
      ],
      "text/plain": [
       "   CustomerID  Churn  HourSpendOnApp  NumberOfDeviceRegistered  \\\n",
       "0       50001      1        3.000000                         3   \n",
       "1       50002      1        3.000000                         4   \n",
       "2       50003      1        2.000000                         4   \n",
       "3       50004      1        2.000000                         4   \n",
       "4       50005      1        2.931535                         3   \n",
       "\n",
       "   SatisfactionScore  Complain  OrderAmountHikeFromlastYear  OrderCount  \\\n",
       "0                  2         1                         11.0         1.0   \n",
       "1                  3         1                         15.0         1.0   \n",
       "2                  3         1                         14.0         1.0   \n",
       "3                  5         0                         23.0         1.0   \n",
       "4                  5         0                         11.0         1.0   \n",
       "\n",
       "   DaySinceLastOrder  CashbackAmount  \n",
       "0                5.0             160  \n",
       "1                0.0             121  \n",
       "2                3.0             120  \n",
       "3                3.0             134  \n",
       "4                3.0             130  "
      ]
     },
     "execution_count": 56,
     "metadata": {},
     "output_type": "execute_result"
    }
   ],
   "source": [
    "df.head()"
   ]
  },
  {
   "cell_type": "code",
   "execution_count": 2,
   "metadata": {},
   "outputs": [
    {
     "ename": "NameError",
     "evalue": "name 'df' is not defined",
     "output_type": "error",
     "traceback": [
      "\u001b[1;31m---------------------------------------------------------------------------\u001b[0m",
      "\u001b[1;31mNameError\u001b[0m                                 Traceback (most recent call last)",
      "Cell \u001b[1;32mIn[2], line 2\u001b[0m\n\u001b[0;32m      1\u001b[0m plt\u001b[38;5;241m.\u001b[39mfigure(figsize\u001b[38;5;241m=\u001b[39m(\u001b[38;5;241m12\u001b[39m,\u001b[38;5;241m8\u001b[39m))\n\u001b[1;32m----> 2\u001b[0m sns\u001b[38;5;241m.\u001b[39mheatmap(\u001b[43mdf\u001b[49m\u001b[38;5;241m.\u001b[39mcorr(),annot\u001b[38;5;241m=\u001b[39m\u001b[38;5;28;01mTrue\u001b[39;00m)\n",
      "\u001b[1;31mNameError\u001b[0m: name 'df' is not defined"
     ]
    },
    {
     "data": {
      "text/plain": [
       "<Figure size 1200x800 with 0 Axes>"
      ]
     },
     "metadata": {},
     "output_type": "display_data"
    }
   ],
   "source": [
    "plt.figure(figsize=(12,8))\n",
    "sns.heatmap(df.corr(),annot=True)"
   ]
  },
  {
   "cell_type": "code",
   "execution_count": 58,
   "metadata": {},
   "outputs": [
    {
     "data": {
      "text/plain": [
       "0"
      ]
     },
     "execution_count": 58,
     "metadata": {},
     "output_type": "execute_result"
    }
   ],
   "source": [
    "df.duplicated().sum()"
   ]
  },
  {
   "cell_type": "code",
   "execution_count": 59,
   "metadata": {},
   "outputs": [
    {
     "name": "stdout",
     "output_type": "stream",
     "text": [
      "2\n",
      "[1 0]\n",
      "0    4682\n",
      "1     948\n",
      "Name: Churn, dtype: int64\n"
     ]
    }
   ],
   "source": [
    "churn = df['Churn'].unique()\n",
    "print(len(churn))\n",
    "print(churn)\n",
    "print(pd.value_counts(df['Churn']))"
   ]
  },
  {
   "cell_type": "code",
   "execution_count": 60,
   "metadata": {},
   "outputs": [
    {
     "name": "stdout",
     "output_type": "stream",
     "text": [
      "0    4682\n",
      "1     948\n",
      "Name: Churn, dtype: int64\n"
     ]
    },
    {
     "data": {
      "image/png": "[encoded data removed]",
      "text/plain": [
       "<Figure size 432x288 with 1 Axes>"
      ]
     },
     "metadata": {},
     "output_type": "display_data"
    }
   ],
   "source": [
    "import matplotlib.pyplot as plt\n",
    "churn=df['Churn'].unique()\n",
    "count=pd.value_counts(df['Churn'])\n",
    "print(count)\n",
    "plt.pie(count,labels=churn,autopct='%d%%')\n",
    "plt.show()"
   ]
  },
  {
   "cell_type": "code",
   "execution_count": 61,
   "metadata": {},
   "outputs": [],
   "source": [
    "# print(df.size)\n",
    "# print(df.describe())"
   ]
  },
  {
   "cell_type": "code",
   "execution_count": 62,
   "metadata": {},
   "outputs": [],
   "source": [
    "# # import seaborn as sns\n",
    "# # import matplotlib.pyplot as plt\n",
    "\n",
    "# # plt.style.use('dark_background')\n",
    "# # sns.set_palette(\"Set2\")\n",
    "\n",
    "# # for i in df.columns[:-1]:\n",
    "# #     plt.figure(figsize=(4, 4))\n",
    "# #     sns.histplot(data=df, x=i, kde=True, bins=20)\n",
    "# #     plt.title(f'Visualizing {i}', size=12)  # Adjust the size to your preference\n",
    "# #     plt.xlabel(i)\n",
    "# #     plt.ylabel('Count')\n",
    "# #     plt.show()\n",
    "\n",
    "\n",
    "# import seaborn as sns\n",
    "# import matplotlib.pyplot as plt\n",
    "\n",
    "# plt.style.use('dark_background')\n",
    "# sns.set_palette(\"Set2\")\n",
    "\n",
    "# for i in df.columns[:-1]:\n",
    "#     plt.figure(figsize=(4, 4))\n",
    "#     sns.histplot(df[i], kde=True, bins=20)  # Use sns.histplot directly on the DataFrame column\n",
    "#     plt.title(f'Visualizing {i}', size=12)\n",
    "#     plt.xlabel(i)\n",
    "#     plt.ylabel('Count')\n",
    "#     plt.show()\n",
    "\n",
    "    "
   ]
  },
  {
   "cell_type": "code",
   "execution_count": 63,
   "metadata": {},
   "outputs": [],
   "source": [
    "features = df[['CustomerID','HourSpendOnApp','SatisfactionScore','Complain','OrderAmountHikeFromlastYear','OrderCount','DaySinceLastOrder','CashbackAmount']]"
   ]
  },
  {
   "cell_type": "code",
   "execution_count": 64,
   "metadata": {},
   "outputs": [],
   "source": [
    "target = df['Churn']\n",
    "labels = df['Churn']"
   ]
  },
  {
   "cell_type": "code",
   "execution_count": 65,
   "metadata": {},
   "outputs": [],
   "source": [
    "acc=[]\n",
    "model = []"
   ]
  },
  {
   "cell_type": "code",
   "execution_count": 66,
   "metadata": {},
   "outputs": [],
   "source": [
    "xtrain,xtest,ytrain,ytest = train_test_split(features,target,random_state=42,test_size=0.3)"
   ]
  },
  {
   "cell_type": "code",
   "execution_count": 67,
   "metadata": {},
   "outputs": [
    {
     "name": "stdout",
     "output_type": "stream",
     "text": [
      "[0.25977945 0.28878621 0.25225535 ... 0.38911877 0.12536291 0.38076747]\n",
      "RMSE value : 0.3494\n"
     ]
    }
   ],
   "source": [
    "from sklearn.linear_model import LinearRegression\n",
    "lm = LinearRegression()\n",
    "lm.fit(xtrain,ytrain)\n",
    "ypred = lm.predict(xtest)\n",
    "print(ypred)\n",
    "from sklearn.metrics import mean_squared_error\n",
    "mse = mean_squared_error(ytest, ypred)\n",
    "RMSE = np.sqrt(mse)\n",
    "print(\"RMSE value : {:.4f}\".format(RMSE))\n",
    "acc.append(RMSE)\n",
    "model.append(\"LinearRegression\")\n",
    "# sns.heatmap(mse,annot = True)"
   ]
  },
  {
   "cell_type": "code",
   "execution_count": 68,
   "metadata": {},
   "outputs": [],
   "source": [
    "pickle.dump(lm,open(\"Linear_reg.pkl\",\"wb\"))"
   ]
  },
  {
   "cell_type": "code",
   "execution_count": 69,
   "metadata": {},
   "outputs": [
    {
     "name": "stdout",
     "output_type": "stream",
     "text": [
      "DecisionTrees's Accuracy is:  0.8436944937833037\n",
      "             precision    recall  f1-score   support\n",
      "\n",
      "          0       0.86      0.97      0.91      1414\n",
      "          1       0.57      0.17      0.26       275\n",
      "\n",
      "avg / total       0.81      0.84      0.81      1689\n",
      "\n"
     ]
    }
   ],
   "source": [
    "from sklearn.tree import DecisionTreeClassifier\n",
    "from sklearn import metrics\n",
    "from sklearn.metrics import classification_report\n",
    "\n",
    "dt = DecisionTreeClassifier(criterion=\"entropy\",random_state=42,max_depth=5)\n",
    "dt.fit(xtrain,ytrain)\n",
    "\n",
    "predicted_values = dt.predict(xtest)\n",
    "x = metrics.accuracy_score(ytest, predicted_values)\n",
    "acc.append(x)\n",
    "model.append('dt')\n",
    "print(\"DecisionTrees's Accuracy is: \", x)\n",
    "\n",
    "print(classification_report(ytest,predicted_values))"
   ]
  },
  {
   "cell_type": "code",
   "execution_count": 70,
   "metadata": {},
   "outputs": [],
   "source": [
    "pickle.dump(dt,open(\"Decision_tree.pkl\",\"wb\"))"
   ]
  },
  {
   "cell_type": "code",
   "execution_count": 71,
   "metadata": {},
   "outputs": [
    {
     "name": "stdout",
     "output_type": "stream",
     "text": [
      "             precision    recall  f1-score   support\n",
      "\n",
      "          0       0.88      0.98      0.93      1414\n",
      "          1       0.74      0.34      0.47       275\n",
      "\n",
      "avg / total       0.86      0.87      0.85      1689\n",
      "\n",
      "RF's Accuracy is:  0.8732978093546477\n"
     ]
    },
    {
     "data": {
      "image/png": "[encoded data removed]",
      "text/plain": [
       "<Figure size 576x576 with 2 Axes>"
      ]
     },
     "metadata": {},
     "output_type": "display_data"
    }
   ],
   "source": [
    "from sklearn.ensemble import RandomForestClassifier\n",
    "from sklearn.metrics import confusion_matrix\n",
    "\n",
    "RF = RandomForestClassifier(n_estimators=20, random_state=0)\n",
    "RF.fit(xtrain,ytrain)\n",
    "\n",
    "confusion_RF=confusion_matrix(ytest,RF.predict(xtest))\n",
    "plt.figure(figsize=(8,8))\n",
    "sns.heatmap(confusion_RF,annot=True)\n",
    "from sklearn.metrics import classification_report\n",
    "print(classification_report(ytest,RF.predict(xtest)))\n",
    "predicted_values = RF.predict(xtest)\n",
    "\n",
    "x = metrics.accuracy_score(ytest, predicted_values)\n",
    "acc.append(x)\n",
    "model.append('RF')\n",
    "print(\"RF's Accuracy is: \", x)"
   ]
  },
  {
   "cell_type": "code",
   "execution_count": 72,
   "metadata": {},
   "outputs": [],
   "source": [
    "pickle.dump(RF,open(\"Rand_forest.pkl\",\"wb\"))"
   ]
  },
  {
   "cell_type": "code",
   "execution_count": 73,
   "metadata": {},
   "outputs": [
    {
     "name": "stdout",
     "output_type": "stream",
     "text": [
      "SVM's Accuracy is:  0.837181764357608\n",
      "             precision    recall  f1-score   support\n",
      "\n",
      "          0       0.84      1.00      0.91      1414\n",
      "          1       0.00      0.00      0.00       275\n",
      "\n",
      "avg / total       0.70      0.84      0.76      1689\n",
      "\n"
     ]
    },
    {
     "name": "stderr",
     "output_type": "stream",
     "text": [
      "C:\\Users\\LENOVO\\Anaconda3\\lib\\site-packages\\sklearn\\metrics\\classification.py:1135: UndefinedMetricWarning: Precision and F-score are ill-defined and being set to 0.0 in labels with no predicted samples.\n",
      "  'precision', 'predicted', average, warn_for)\n"
     ]
    }
   ],
   "source": [
    "from sklearn.svm import SVC\n",
    "from sklearn.preprocessing import MinMaxScaler\n",
    "from sklearn.metrics import confusion_matrix\n",
    "norm = MinMaxScaler().fit(xtrain)\n",
    "x_train_norm = norm.transform(xtrain)\n",
    "# transform testing dataabs\n",
    "x_test_norm = norm.transform(xtest)\n",
    "SVM = SVC(kernel='poly', degree=3, C=1)\n",
    "SVM.fit(x_train_norm,ytrain)\n",
    "predicted_values = SVM.predict(x_test_norm)\n",
    "x = metrics.accuracy_score(ytest, predicted_values)\n",
    "acc.append(x)\n",
    "model.append('SVM')\n",
    "print(\"SVM's Accuracy is: \", x)\n",
    "\n",
    "print(classification_report(ytest,predicted_values))"
   ]
  },
  {
   "cell_type": "code",
   "execution_count": 74,
   "metadata": {},
   "outputs": [],
   "source": [
    "pickle.dump(SVM,open(\"SVM_class.pkl\",\"wb\"))"
   ]
  },
  {
   "cell_type": "code",
   "execution_count": 75,
   "metadata": {},
   "outputs": [
    {
     "name": "stdout",
     "output_type": "stream",
     "text": [
      "Logistic Regression's Accuracy is:  0.8348134991119005\n",
      "             precision    recall  f1-score   support\n",
      "\n",
      "          0       0.84      1.00      0.91      1414\n",
      "          1       0.00      0.00      0.00       275\n",
      "\n",
      "avg / total       0.70      0.83      0.76      1689\n",
      "\n"
     ]
    }
   ],
   "source": [
    "from sklearn.linear_model import LogisticRegression\n",
    "\n",
    "LogReg = LogisticRegression(random_state=2)\n",
    "\n",
    "LogReg.fit(xtrain,ytrain)\n",
    "\n",
    "predicted_values = LogReg.predict(xtest)\n",
    "\n",
    "x = metrics.accuracy_score(ytest, predicted_values)\n",
    "acc.append(x)\n",
    "model.append('LR')\n",
    "print(\"Logistic Regression's Accuracy is: \", x)\n",
    "\n",
    "print(classification_report(ytest,predicted_values))"
   ]
  },
  {
   "cell_type": "code",
   "execution_count": 76,
   "metadata": {},
   "outputs": [],
   "source": [
    "pickle.dump(LogReg,open(\"Log_Reg.pkl\",\"wb\"))"
   ]
  },
  {
   "cell_type": "code",
   "execution_count": 78,
   "metadata": {},
   "outputs": [
    {
     "name": "stdout",
     "output_type": "stream",
     "text": [
      "             precision    recall  f1-score   support\n",
      "\n",
      "          0       0.87      0.97      0.92      1414\n",
      "          1       0.65      0.26      0.37       275\n",
      "\n",
      "avg / total       0.84      0.86      0.83      1689\n",
      "\n",
      "Gradient boost accuracy is :  0.8567199526346951\n",
      " \n"
     ]
    },
    {
     "data": {
      "image/png": "[encoded data removed]",
      "text/plain": [
       "<Figure size 576x576 with 2 Axes>"
      ]
     },
     "metadata": {},
     "output_type": "display_data"
    }
   ],
   "source": [
    "from sklearn.ensemble import GradientBoostingClassifier\n",
    "param_grid = {\n",
    "    'learning_rate' : [0.05, 0.075, 0.1, 0.25, 0.5, 0.75, 1],\n",
    "    'n_estimators': [50, 75,100, 150, 200,300],\n",
    "}\n",
    "\n",
    "gbc=RandomizedSearchCV(GradientBoostingClassifier(random_state=42),param_grid,cv=5)\n",
    "gbc.fit(xtrain,ytrain)\n",
    "y_pred_gbc=gbc.predict(xtest)\n",
    "confusion_gbc=confusion_matrix(ytest,y_pred_gbc)\n",
    "plt.figure(figsize=(8,8))\n",
    "sns.heatmap(confusion_gbc,annot=True)\n",
    "plt.xlabel(\"Predicted\")\n",
    "plt.ylabel(\"Actual\")\n",
    "x = metrics.accuracy_score(ytest, y_pred_gbc)\n",
    "acc.append(x)\n",
    "model.append('Gradient Boost')\n",
    "print(classification_report(ytest,y_pred_gbc))\n",
    "print(\"Gradient boost accuracy is : \",x)\n",
    "print(\" \")"
   ]
  },
  {
   "cell_type": "code",
   "execution_count": 79,
   "metadata": {},
   "outputs": [
    {
     "name": "stdout",
     "output_type": "stream",
     "text": [
      "             precision    recall  f1-score   support\n",
      "\n",
      "          0       0.85      0.86      0.86      1414\n",
      "          1       0.25      0.25      0.25       275\n",
      "\n",
      "avg / total       0.76      0.76      0.76      1689\n",
      "\n",
      "Knn's Accuracy is : 0.7584369449378331\n",
      " \n"
     ]
    },
    {
     "data": {
      "image/png": "[encoded data removed]",
      "text/plain": [
       "<Figure size 576x576 with 2 Axes>"
      ]
     },
     "metadata": {},
     "output_type": "display_data"
    }
   ],
   "source": [
    "from sklearn.metrics import confusion_matrix, classification_report, accuracy_score\n",
    "import matplotlib.pyplot as plt\n",
    "import seaborn as sns\n",
    "from sklearn.neighbors import KNeighborsClassifier\n",
    "\n",
    "knn = KNeighborsClassifier(n_neighbors=1)\n",
    "knn.fit(xtrain, ytrain)\n",
    "y_pred = knn.predict(xtest)  # Predict the values for the test set\n",
    "\n",
    "confusion_knn = confusion_matrix(ytest, y_pred)\n",
    "plt.figure(figsize=(8, 8))\n",
    "sns.heatmap(confusion_knn, annot=True)\n",
    "plt.xlabel(\"Predicted\")\n",
    "plt.ylabel(\"Actual\")\n",
    "\n",
    "print(classification_report(ytest, y_pred))\n",
    "\n",
    "accuracy = accuracy_score(ytest, y_pred)\n",
    "acc.append(accuracy)\n",
    "model.append('Knn')\n",
    "print(\"Knn's Accuracy is :\",accuracy)\n",
    "print(\" \")\n"
   ]
  },
  {
   "cell_type": "code",
   "execution_count": 3,
   "metadata": {},
   "outputs": [
    {
     "ename": "NameError",
     "evalue": "name 'RF' is not defined",
     "output_type": "error",
     "traceback": [
      "\u001b[1;31m---------------------------------------------------------------------------\u001b[0m",
      "\u001b[1;31mNameError\u001b[0m                                 Traceback (most recent call last)",
      "Cell \u001b[1;32mIn[3], line 2\u001b[0m\n\u001b[0;32m      1\u001b[0m data \u001b[38;5;241m=\u001b[39m np\u001b[38;5;241m.\u001b[39marray([[\u001b[38;5;241m50001\u001b[39m,\u001b[38;5;241m3.0\u001b[39m,\u001b[38;5;241m2\u001b[39m,\u001b[38;5;241m1\u001b[39m,\u001b[38;5;241m11.0\u001b[39m,\u001b[38;5;241m1.0\u001b[39m,\u001b[38;5;241m5.0\u001b[39m,\u001b[38;5;241m160\u001b[39m]])\n\u001b[1;32m----> 2\u001b[0m prediction \u001b[38;5;241m=\u001b[39m \u001b[43mRF\u001b[49m\u001b[38;5;241m.\u001b[39mpredict(data)\n\u001b[0;32m      3\u001b[0m \u001b[38;5;28mprint\u001b[39m(prediction)\n",
      "\u001b[1;31mNameError\u001b[0m: name 'RF' is not defined"
     ]
    }
   ],
   "source": [
    "data = np.array([[50001,3.0,2,1,11.0,1.0,5.0,160]])\n",
    "prediction = RF.predict(data)\n",
    "print(prediction)"
   ]
  },
  {
   "cell_type": "code",
   "execution_count": 81,
   "metadata": {},
   "outputs": [
    {
     "name": "stdout",
     "output_type": "stream",
     "text": [
      "[0]\n"
     ]
    }
   ],
   "source": [
    "data = np.array([[55621,4.0,5,0,15.0,2.0,5.0,163]])\n",
    "prediction = RF.predict(data)\n",
    "print(prediction)"
   ]
  },
  {
   "cell_type": "code",
   "execution_count": 82,
   "metadata": {},
   "outputs": [
    {
     "name": "stdout",
     "output_type": "stream",
     "text": [
      "churn: 1\n"
     ]
    }
   ],
   "source": [
    "import pandas as pd\n",
    "from sklearn.ensemble import RandomForestClassifier\n",
    "\n",
    "# Load the dataset\n",
    "# data = pd.read_csv('churn_final_data.csv')\n",
    "# print(data.head())\n",
    "# Split the dataset into input features (X) and target variable (y)\n",
    "X = df[['CustomerID','HourSpendOnApp','SatisfactionScore','Complain','OrderAmountHikeFromlastYear','OrderCount','DaySinceLastOrder','CashbackAmount']]\n",
    "y = df['Churn']\n",
    "\n",
    "# Create a Random Forest Classifier\n",
    "clf = RandomForestClassifier(n_estimators=100, random_state=42)\n",
    "\n",
    "# Train the classifier\n",
    "clf.fit(X, y)\n",
    "\n",
    "def churn_rate(input_data):\n",
    "    # Create a DataFrame with the input parameters\n",
    "    input_df = pd.DataFrame([input_data],columns=['CustomerID','HourSpendOnApp','SatisfactionScore','Complain','OrderAmountHikeFromlastYear','OrderCount','DaySinceLastOrder','CashbackAmount'])\n",
    "\n",
    "    # Make predictions on the input data\n",
    "    churn_result = clf.predict(input_df)\n",
    "\n",
    "    return churn_result[0]\n",
    "\n",
    "# Example usage\n",
    "input_values = [50001,3.0,2,1,11.0,1.0,5.0,160]\n",
    "rate_churn = churn_rate(input_values)\n",
    "print(\"churn:\", rate_churn)\n"
   ]
  },
  {
   "cell_type": "code",
   "execution_count": 83,
   "metadata": {},
   "outputs": [
    {
     "data": {
      "image/png": "[encoded data removed]",
      "text/plain": [
       "<Figure size 432x288 with 1 Axes>"
      ]
     },
     "metadata": {},
     "output_type": "display_data"
    }
   ],
   "source": [
    "import matplotlib.pyplot as plt\n",
    "import seaborn as sns\n",
    "# plt.figure(figsize=[6, 5])\n",
    "plt.title('Accuracy Comparison')\n",
    "plt.ylabel('Accuracy')\n",
    "plt.xlabel('Algorithm')\n",
    "sns.barplot(x = model, y = acc)\n",
    "plt.show()"
   ]
  },
  {
   "cell_type": "code",
   "execution_count": 84,
   "metadata": {},
   "outputs": [
    {
     "name": "stdout",
     "output_type": "stream",
     "text": [
      "['LinearRegression', 'dt', 'RF', 'SVM', 'LR', 'Gradient Boost', 'Gradient Boost', 'Knn'] [0.34943349873186286, 0.8436944937833037, 0.8732978093546477, 0.837181764357608, 0.8348134991119005, 0.8590882178804026, 0.8567199526346951, 0.7584369449378331]\n"
     ]
    }
   ],
   "source": [
    "print(model,acc)"
   ]
  },
  {
   "cell_type": "code",
   "execution_count": 85,
   "metadata": {},
   "outputs": [],
   "source": [
    "pickle.dump(clf,open(\"Churn_pred.pkl\",\"wb\"))"
   ]
  },
  {
   "cell_type": "code",
   "execution_count": null,
   "metadata": {},
   "outputs": [],
   "source": []
  }
 ],
 "metadata": {
  "kernelspec": {
   "display_name": "myenv",
   "language": "python",
   "name": "python3"
  },
  "language_info": {
   "codemirror_mode": {
    "name": "ipython",
    "version": 3
   },
   "file_extension": ".py",
   "mimetype": "text/x-python",
   "name": "python",
   "nbconvert_exporter": "python",
   "pygments_lexer": "ipython3",
   "version": "3.12.3"
  }
 },
 "nbformat": 4,
 "nbformat_minor": 5
}
